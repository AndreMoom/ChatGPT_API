{
 "cells": [
  {
   "attachments": {},
   "cell_type": "markdown",
   "metadata": {},
   "source": [
    "### Prueba para conectarse a la API de chatGPT\n",
    "\n",
    "#### Cristhian Ipanaqué"
   ]
  },
  {
   "cell_type": "code",
   "execution_count": null,
   "metadata": {},
   "outputs": [],
   "source": []
  }
 ],
 "metadata": {
  "kernelspec": {
   "display_name": "Python 3",
   "language": "python",
   "name": "python3"
  },
  "language_info": {
   "name": "python",
   "version": "3.10.5"
  },
  "orig_nbformat": 4,
  "vscode": {
   "interpreter": {
    "hash": "35aabcdafb5198b47c73ee53df070bb7b723e0e5f28a523cf444b3656a21e3ce"
   }
  }
 },
 "nbformat": 4,
 "nbformat_minor": 2
}
